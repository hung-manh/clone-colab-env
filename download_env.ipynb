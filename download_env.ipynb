{
  "cells": [
    {
      "cell_type": "markdown",
      "source": [
        "# Clone Colab env to local\n"
      ],
      "metadata": {
        "id": "AIn6QokyR1vC"
      }
    },
    {
      "cell_type": "code",
      "execution_count": 1,
      "metadata": {
        "colab": {
          "base_uri": "https://localhost:8080/"
        },
        "id": "8AF1mL23Qw9M",
        "outputId": "3b6d64ec-8008-4dfb-c134-be4f2d62053f"
      },
      "outputs": [
        {
          "output_type": "stream",
          "name": "stdout",
          "text": [
            "Mounted at /content/drive/\n"
          ]
        }
      ],
      "source": [
        "from google.colab import drive\n",
        "drive.mount('/content/drive/')"
      ]
    },
    {
      "cell_type": "code",
      "source": [
        "!git clone https://github.com/hung-manh/clone-colab-env"
      ],
      "metadata": {
        "id": "q0w8hMVIf5xZ"
      },
      "execution_count": null,
      "outputs": []
    },
    {
      "cell_type": "code",
      "source": [
        "venv_name=\"my_venv\"  # Replace with your preferred name\n",
        "!apt install python3.10-venv\n",
        "!python3 -m venv $venv_name  # Use the variable\n",
        "!source /content/$venv_name/bin/activate; which pip"
      ],
      "metadata": {
        "id": "LljFlULJfk0p"
      },
      "execution_count": null,
      "outputs": []
    },
    {
      "cell_type": "code",
      "source": [
        "requirements_path=\"/content/clone-colab-env/requirements.txt\"  # Adjust the path\n",
        "!source /content/$venv_name/bin/activate; pip install -r $requirements_path"
      ],
      "metadata": {
        "id": "viZuvgr9foWh"
      },
      "execution_count": null,
      "outputs": []
    },
    {
      "cell_type": "code",
      "execution_count": null,
      "metadata": {
        "id": "Mk4nJ-iTxhMO",
        "collapsed": true
      },
      "outputs": [],
      "source": [
        "archive_name=\"my_venv_archive.tar.gz\"  # Replace with your choice\n",
        "%cd /content/$venv_name\n",
        "!tar -czvf $archive_name *"
      ]
    },
    {
      "cell_type": "code",
      "execution_count": 36,
      "metadata": {
        "id": "1UisCiBw2Y9y"
      },
      "outputs": [],
      "source": [
        "# copy venv.tar.gz to drive\n",
        "drive_folder_path=\"/content/drive/MyDrive\"  # Adjust the path\n",
        "!cp $archive_name $drive_folder_path\n",
        "\n",
        "# Open Google Drive, locate to the env, then download it from drive to get high speed connection"
      ]
    }
  ],
  "metadata": {
    "colab": {
      "provenance": []
    },
    "kernelspec": {
      "display_name": "Python 3",
      "name": "python3"
    },
    "language_info": {
      "name": "python"
    }
  },
  "nbformat": 4,
  "nbformat_minor": 0
}